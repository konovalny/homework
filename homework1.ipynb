{
  "nbformat": 4,
  "nbformat_minor": 0,
  "metadata": {
    "colab": {
      "provenance": [],
      "authorship_tag": "ABX9TyPO+CJ9bnG+nF1th8wC1889",
      "include_colab_link": true
    },
    "kernelspec": {
      "name": "python3",
      "display_name": "Python 3"
    },
    "language_info": {
      "name": "python"
    }
  },
  "cells": [
    {
      "cell_type": "markdown",
      "metadata": {
        "id": "view-in-github",
        "colab_type": "text"
      },
      "source": [
        "<a href=\"https://colab.research.google.com/github/konovalny/homework/blob/main/homework1.ipynb\" target=\"_parent\"><img src=\"https://colab.research.google.com/assets/colab-badge.svg\" alt=\"Open In Colab\"/></a>"
      ]
    },
    {
      "cell_type": "markdown",
      "source": [
        "# 1 https://edabit.com/challenge/gt9LLufDCMHKMioh2"
      ],
      "metadata": {
        "id": "xJDvS8V0zIQQ"
      }
    },
    {
      "cell_type": "code",
      "source": [
        "class Test:\n",
        "    def assert_equals(a, b, *args, **kwargs):\n",
        "        assert a == b\n",
        "        print('Passed')\n",
        "\n",
        "def stutter(word):\n",
        "\treturn word[0:2] + '... ' + word[0:2] + '... ' + word + '?'\n",
        "\n",
        "actual_param, expected_param = [\n",
        "\t\"increasing\", \"adventures\", \"enticing\", \"unacceptable\", \"accountable\", \"incredible\", \"exquisite\",\n",
        "\t\"am\", \"enduring\", \"outstanding\", \"astonishing\", \"astounding\", \"impressive\", \"revolutionize\",\n",
        "\t\"recurring\", \"recollection\", \"so\", \"gorgeous\", \"captivating\"\n",
        "], [\n",
        "\t\"in... in... increasing?\", \"ad... ad... adventures?\", \"en... en... enticing?\", \"un... un... unacceptable?\",\n",
        "    \"ac... ac... accountable?\", \"in... in... incredible?\", \"ex... ex... exquisite?\", \"am... am... am?\",\n",
        "    \"en... en... enduring?\", \"ou... ou... outstanding?\", \"as... as... astonishing?\", \"as... as... astounding?\",\n",
        "    \"im... im... impressive?\", \"re... re... revolutionize?\", \"re... re... recurring?\", \"re... re... recollection?\",\n",
        "    \"so... so... so?\", \"go... go... gorgeous?\", \"ca... ca... captivating?\",\n",
        "]\n",
        "for i, w in enumerate(actual_param):\n",
        "\tTest.assert_equals(stutter(w), expected_param[i])"
      ],
      "metadata": {
        "colab": {
          "base_uri": "https://localhost:8080/"
        },
        "id": "KOO-Ji2ozN3a",
        "outputId": "ba876653-c0bd-4f5e-eec6-3f1151bb795d"
      },
      "execution_count": 2,
      "outputs": [
        {
          "output_type": "stream",
          "name": "stdout",
          "text": [
            "Passed\n",
            "Passed\n",
            "Passed\n",
            "Passed\n",
            "Passed\n",
            "Passed\n",
            "Passed\n",
            "Passed\n",
            "Passed\n",
            "Passed\n",
            "Passed\n",
            "Passed\n",
            "Passed\n",
            "Passed\n",
            "Passed\n",
            "Passed\n",
            "Passed\n",
            "Passed\n",
            "Passed\n"
          ]
        }
      ]
    },
    {
      "cell_type": "markdown",
      "source": [
        "# 2 https://edabit.com/challenge/cXnkmRdxqJrwdsP4n"
      ],
      "metadata": {
        "id": "AfDGUKu3zTcO"
      }
    },
    {
      "cell_type": "code",
      "source": [
        "class Test:\n",
        "    def assert_equals(a, b, *args, **kwargs):\n",
        "        assert a == b\n",
        "        print('Passed')\n",
        "def dis(price, discount):\n",
        "  return round(price - (price*(discount/100)),2)\n",
        "\n",
        "Test.assert_equals(dis(100, 75), 25)\n",
        "Test.assert_equals(dis(211, 50), 105.5)\n",
        "Test.assert_equals(dis(593, 61), 231.27)\n",
        "Test.assert_equals(dis(1693, 80), 338.6)\n",
        "Test.assert_equals(dis(700, 10), 630)"
      ],
      "metadata": {
        "colab": {
          "base_uri": "https://localhost:8080/"
        },
        "id": "4nPWLbWnzciU",
        "outputId": "11bc5b80-4b29-4ed9-860e-343ce2340962"
      },
      "execution_count": 3,
      "outputs": [
        {
          "output_type": "stream",
          "name": "stdout",
          "text": [
            "Passed\n",
            "Passed\n",
            "Passed\n",
            "Passed\n",
            "Passed\n"
          ]
        }
      ]
    },
    {
      "cell_type": "markdown",
      "source": [
        "# 3 https://edabit.com/challenge/2X2uZysLJ3CpsxLDD\n"
      ],
      "metadata": {
        "id": "isVzfFgZzirp"
      }
    },
    {
      "cell_type": "code",
      "source": [
        "class Test:\n",
        "    def assert_equals(a, b, *args, **kwargs):\n",
        "        assert a == b\n",
        "        print('Passed')\n",
        "import math\n",
        "def radians_to_degrees(rad):\n",
        "  return round(rad*180/math.pi, 1)\n",
        "\n",
        "Test.assert_equals(radians_to_degrees(1), 57.3)\n",
        "Test.assert_equals(radians_to_degrees(5), 286.5)\n",
        "Test.assert_equals(radians_to_degrees(7), 401.1)\n",
        "Test.assert_equals(radians_to_degrees(60), 3437.7)\n",
        "Test.assert_equals(radians_to_degrees(100), 5729.6)\n",
        "Test.assert_equals(radians_to_degrees(180), 10313.2)"
      ],
      "metadata": {
        "colab": {
          "base_uri": "https://localhost:8080/"
        },
        "id": "qUi58QP7zoL3",
        "outputId": "af1e17f3-3179-403d-bb1a-11a142539aaf"
      },
      "execution_count": 4,
      "outputs": [
        {
          "output_type": "stream",
          "name": "stdout",
          "text": [
            "Passed\n",
            "Passed\n",
            "Passed\n",
            "Passed\n",
            "Passed\n",
            "Passed\n"
          ]
        }
      ]
    },
    {
      "cell_type": "markdown",
      "source": [
        "# 4 https://edabit.com/challenge/4me7LifXBwj5rhL4n"
      ],
      "metadata": {
        "id": "sBL42aI-zu5U"
      }
    },
    {
      "cell_type": "code",
      "source": [
        "class Test:\n",
        "    def assert_equals(a, b, *args, **kwargs):\n",
        "        assert a == b\n",
        "        print('Passed')\n",
        "import math\n",
        "def circle_or_square(rad, area):\n",
        "  s1=2*math.pi*rad\n",
        "  s2=4*(area**0.5) \n",
        "  if s1>s2: a=True \n",
        "  else: a=False\n",
        "  return a\n",
        "\n",
        "Test.assert_equals(circle_or_square(16, 625), True)\n",
        "Test.assert_equals(circle_or_square(8, 144), True)\n",
        "Test.assert_equals(circle_or_square(15, 400), True)\n",
        "Test.assert_equals(circle_or_square(5, 100), False)\n",
        "Test.assert_equals(circle_or_square(18, 900), False)\n",
        "Test.assert_equals(circle_or_square(1, 4), False)"
      ],
      "metadata": {
        "colab": {
          "base_uri": "https://localhost:8080/"
        },
        "id": "LAdFmmEyzxrY",
        "outputId": "81eac115-bb53-427e-faf9-cb48acb155fd"
      },
      "execution_count": 5,
      "outputs": [
        {
          "output_type": "stream",
          "name": "stdout",
          "text": [
            "Passed\n",
            "Passed\n",
            "Passed\n",
            "Passed\n",
            "Passed\n",
            "Passed\n"
          ]
        }
      ]
    },
    {
      "cell_type": "markdown",
      "source": [
        "# 5 https://edabit.com/challenge/HYjQKDXFfeppcWmLXНовый "
      ],
      "metadata": {
        "id": "mNkmGFgJz1In"
      }
    },
    {
      "cell_type": "code",
      "source": [
        "class Test:\n",
        "    def assert_equals(a, b, *args, **kwargs):\n",
        "        assert a == b\n",
        "        print('Passed')\n",
        "import math\n",
        "def is_curzon(num):\n",
        "  if (2**num+1) % (2*num+1)==0: return True\n",
        "  else: return False\n",
        "\n",
        "Test.assert_equals(is_curzon(5), True)\n",
        "Test.assert_equals(is_curzon(10), False)\n",
        "Test.assert_equals(is_curzon(14), True)\n",
        "Test.assert_equals(is_curzon(86), True)\n",
        "Test.assert_equals(is_curzon(90), True)\n",
        "Test.assert_equals(is_curzon(115), False)\n",
        "Test.assert_equals(is_curzon(120), False)\n",
        "Test.assert_equals(is_curzon(194), True)\n",
        "Test.assert_equals(is_curzon(293), True)"
      ],
      "metadata": {
        "colab": {
          "base_uri": "https://localhost:8080/"
        },
        "id": "uch-ugjOz-er",
        "outputId": "3033f919-d9cd-4070-de55-26a7965bc005"
      },
      "execution_count": 6,
      "outputs": [
        {
          "output_type": "stream",
          "name": "stdout",
          "text": [
            "Passed\n",
            "Passed\n",
            "Passed\n",
            "Passed\n",
            "Passed\n",
            "Passed\n",
            "Passed\n",
            "Passed\n",
            "Passed\n"
          ]
        }
      ]
    },
    {
      "cell_type": "markdown",
      "source": [
        "# 6 https://edabit.com/challenge/3DAkZHv2LZjgqWbvW"
      ],
      "metadata": {
        "id": "MUgNMGOJ0CiP"
      }
    },
    {
      "cell_type": "code",
      "source": [
        "class Test:\n",
        "    def assert_equals(a, b, *args, **kwargs):\n",
        "        assert a == b\n",
        "        print('Passed')\n",
        "\n",
        "def is_adjacent(matrix, n1, n2):\n",
        "  return matrix[n1][n2]\n",
        "\n",
        "matrix = [[0,1,0,0],[1,0,1,1],[0,1,0,1],[0,1,1,0]]\n",
        "Test.assert_equals(is_adjacent(matrix, 0, 1), True)\n",
        "Test.assert_equals(is_adjacent(matrix, 0, 2), False)\n",
        "Test.assert_equals(is_adjacent(matrix, 2, 1), True)\n",
        "\n",
        "matrix = [[0,1,0,1,1], [1,0,1,0,0],[0,1,0,1,0],[1,0,1,0,1],[1,0,0,1,0]]\n",
        "Test.assert_equals(is_adjacent(matrix, 0, 3), True)\n",
        "Test.assert_equals(is_adjacent(matrix, 1, 4), False)\n",
        "Test.assert_equals(is_adjacent(matrix, 3, 2), True)"
      ],
      "metadata": {
        "colab": {
          "base_uri": "https://localhost:8080/"
        },
        "id": "2W8YHm-D0GaP",
        "outputId": "a3db39e7-1398-4d0e-9bf1-380ddc596c17"
      },
      "execution_count": 7,
      "outputs": [
        {
          "output_type": "stream",
          "name": "stdout",
          "text": [
            "Passed\n",
            "Passed\n",
            "Passed\n",
            "Passed\n",
            "Passed\n",
            "Passed\n"
          ]
        }
      ]
    },
    {
      "cell_type": "markdown",
      "source": [
        "# 7 https://edabit.com/challenge/xRMQG4Sxewx5agDRr"
      ],
      "metadata": {
        "id": "8KOK2_LE0I-E"
      }
    },
    {
      "cell_type": "code",
      "source": [
        "class Test:\n",
        "    def assert_equals(a, b, *args, **kwargs):\n",
        "        assert a == b\n",
        "        print('Passed')\n",
        "\n",
        "def find_highest(lst):\n",
        "  m =0\n",
        "  for i in lst:\n",
        "    if i>m: m=i\n",
        "  return m\n",
        "\n",
        "Test.assert_equals(find_highest([8]), 8)\n",
        "Test.assert_equals(find_highest([-1, 3, 5, 6, 99, 12, 2]), 99)\n",
        "Test.assert_equals(find_highest([0, 12, 4, 87]), 87)"
      ],
      "metadata": {
        "colab": {
          "base_uri": "https://localhost:8080/"
        },
        "id": "IiK8pPoe0MBe",
        "outputId": "5211cb49-dab2-47b9-dbcc-eda920b9e997"
      },
      "execution_count": 8,
      "outputs": [
        {
          "output_type": "stream",
          "name": "stdout",
          "text": [
            "Passed\n",
            "Passed\n",
            "Passed\n"
          ]
        }
      ]
    },
    {
      "cell_type": "markdown",
      "source": [
        "# 8 https://edabit.com/challenge/zkKNmC66ASvSm5wJA"
      ],
      "metadata": {
        "id": "2dDdRUGZ0OwA"
      }
    },
    {
      "cell_type": "code",
      "source": [
        "class Test:\n",
        "    def assert_equals(a, b, *args, **kwargs):\n",
        "        assert a == b\n",
        "        print('Passed')\n",
        "\n",
        "def perimeter(l, num):\n",
        "  return (l == 's')*4*num + (l == 'c')*6.28*num\n",
        "\n",
        "Test.assert_equals(perimeter(\"s\", 1), 4)\n",
        "Test.assert_equals(perimeter(\"s\", 4), 16)\n",
        "Test.assert_equals(perimeter(\"s\", 9), 36)\n",
        "Test.assert_equals(perimeter(\"s\", 13), 52)\n",
        "Test.assert_equals(perimeter(\"s\", 30), 120)\n",
        "Test.assert_equals(perimeter(\"c\", 1), 6.28)\n",
        "Test.assert_equals(perimeter(\"c\", 4), 25.12)\n",
        "Test.assert_equals(perimeter(\"c\", 9), 56.52)\n",
        "Test.assert_equals(perimeter(\"c\", 13), 81.64)\n",
        "Test.assert_equals(perimeter(\"c\", 30), 188.4)"
      ],
      "metadata": {
        "colab": {
          "base_uri": "https://localhost:8080/"
        },
        "id": "3GvjU2ub0R8L",
        "outputId": "7061dca6-9998-4ae0-87a4-6a7af656eb27"
      },
      "execution_count": 9,
      "outputs": [
        {
          "output_type": "stream",
          "name": "stdout",
          "text": [
            "Passed\n",
            "Passed\n",
            "Passed\n",
            "Passed\n",
            "Passed\n",
            "Passed\n",
            "Passed\n",
            "Passed\n",
            "Passed\n",
            "Passed\n"
          ]
        }
      ]
    },
    {
      "cell_type": "markdown",
      "source": [
        "# 9 https://edabit.com/challenge/MtktG9Dz7z9vBCFYM"
      ],
      "metadata": {
        "id": "aNELExKy0VBV"
      }
    },
    {
      "cell_type": "code",
      "source": [
        "class Test:\n",
        "    def assert_equals(a, b, *args, **kwargs):\n",
        "        assert a == b\n",
        "        print('Passed')\n",
        "\n",
        "import socket\n",
        "def get_domain(ip_address): \n",
        "  return socket.gethostbyaddr(ip_address)[0]\n",
        "\n",
        "Test.assert_equals(get_domain(\"8.8.8.8\"), \"dns.google\")\n",
        "Test.assert_equals(get_domain(\"8.8.4.4\"), \"dns.google\")"
      ],
      "metadata": {
        "colab": {
          "base_uri": "https://localhost:8080/"
        },
        "id": "MtSJ7Z-O0YYv",
        "outputId": "aca1d05d-a0bb-4657-8640-4c14718b21a1"
      },
      "execution_count": 10,
      "outputs": [
        {
          "output_type": "stream",
          "name": "stdout",
          "text": [
            "Passed\n",
            "Passed\n"
          ]
        }
      ]
    }
  ]
}