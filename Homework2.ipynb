{
  "nbformat": 4,
  "nbformat_minor": 0,
  "metadata": {
    "colab": {
      "provenance": [],
      "authorship_tag": "ABX9TyOl60eE3ETS5r/v6xAawhp5",
      "include_colab_link": true
    },
    "kernelspec": {
      "name": "python3",
      "display_name": "Python 3"
    },
    "language_info": {
      "name": "python"
    }
  },
  "cells": [
    {
      "cell_type": "markdown",
      "metadata": {
        "id": "view-in-github",
        "colab_type": "text"
      },
      "source": [
        "<a href=\"https://colab.research.google.com/github/konovalny/homework/blob/main/Homework2.ipynb\" target=\"_parent\"><img src=\"https://colab.research.google.com/assets/colab-badge.svg\" alt=\"Open In Colab\"/></a>"
      ]
    },
    {
      "cell_type": "markdown",
      "source": [
        "# №1 Создайте матрицу 5x5 со значениями 1,2,3,4 под главной диагональю. Остальные значения - нули."
      ],
      "metadata": {
        "id": "o88Jahvl2VJh"
      }
    },
    {
      "cell_type": "code",
      "source": [
        "import numpy as np\n",
        "a=np.zeros((5,5))\n",
        "for i in np.arange(4):\n",
        "  a[i+1,i]=a[i+1,i]+i+1\n",
        "print(a)"
      ],
      "metadata": {
        "id": "fK-MINS72YM_"
      },
      "execution_count": null,
      "outputs": []
    },
    {
      "cell_type": "markdown",
      "source": [
        "# №2 Создайте двумерный массив 10x3, заполненный случайными значениями. В каждой строке выберите значение, наиболее близкое к 0.5.\n"
      ],
      "metadata": {
        "id": "7rwlP-mA2bct"
      }
    },
    {
      "cell_type": "code",
      "source": [
        "import numpy as np\n",
        "a=np.random.rand(10,3)\n",
        "print(a)\n",
        "c = abs(a-0.5)\n",
        "for i in np.arange(10):\n",
        " b = np.where(c == np.min(c[i]))\n",
        " print(a[b])"
      ],
      "metadata": {
        "id": "EIoddwL82imS"
      },
      "execution_count": null,
      "outputs": []
    },
    {
      "cell_type": "markdown",
      "source": [
        "# 3.Создайте двумерный массив 6x6, заполненный случайными значениями. Сумму по каждой строке поделите на максимальный элемент из столбца с тем же индексом."
      ],
      "metadata": {
        "id": "wCJRCLYE2mSD"
      }
    },
    {
      "cell_type": "code",
      "source": [
        "import numpy as np\n",
        "a=np.random.rand(6,6)\n",
        "print(a)\n",
        "for i in np.arange(6):\n",
        "  b = np.sum(a[i])\n",
        "  c = np.mean(a[:,i])\n",
        "  print(b/c)"
      ],
      "metadata": {
        "id": "sMh1dSeF2ppa"
      },
      "execution_count": null,
      "outputs": []
    },
    {
      "cell_type": "markdown",
      "source": [
        "# 4.На примере массива x = np.array([6, 2, 0, 3, 0, 0, 5, 7, 0]) найдите максимальный элемент в массиве среди элементов, перед которыми стоит ноль."
      ],
      "metadata": {
        "id": "wYCrKWDG2rq3"
      }
    },
    {
      "cell_type": "code",
      "source": [
        "import numpy as np\n",
        "x = np.array([6, 2, 0, 3, 0, 0, 5, 7, 0])\n",
        "k = np.zeros(9)\n",
        "j = 0\n",
        "for i in np.arange(8):\n",
        "  if (x[i+1] == 0) :  \n",
        "    k[j] = x[i] \n",
        "    j = j+1    \n",
        "m = np.min(k[0:j])\n",
        "print(m)"
      ],
      "metadata": {
        "id": "akMNXfFT2vVQ"
      },
      "execution_count": null,
      "outputs": []
    },
    {
      "cell_type": "markdown",
      "source": [
        "# 5.Пусть заданы два массива x = np.ones(10) и i = np.array([0, 1, 2, 3, 5, 5, 5, 8]). Прибавьте единицу к тем элементам массива x, индексы которых указаны в массиве i. В случае, если некоторый индекс встретился в массиве i несколько раз, прибавьте к соответствующему элементу массива x число вхождений данного индекса в массив i."
      ],
      "metadata": {
        "id": "8zyc2Gv-20aO"
      }
    },
    {
      "cell_type": "code",
      "source": [
        "import numpy as np\n",
        "x = np.ones(10) \n",
        "i = np.array([0, 1, 2, 3, 5, 5, 5, 8])\n",
        "for j in np.arange(8):\n",
        "  x[i[j]] += 1\n",
        "print(x)  "
      ],
      "metadata": {
        "colab": {
          "base_uri": "https://localhost:8080/"
        },
        "id": "Dl3T1ATZ24DY",
        "outputId": "01b4eaff-c454-4ab3-8fb3-7e92e4b5cf89"
      },
      "execution_count": 7,
      "outputs": [
        {
          "output_type": "stream",
          "name": "stdout",
          "text": [
            "[2. 2. 2. 2. 1. 4. 1. 1. 2. 1.]\n"
          ]
        }
      ]
    }
  ]
}